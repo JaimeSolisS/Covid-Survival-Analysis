{
 "cells": [
  {
   "cell_type": "markdown",
   "metadata": {},
   "source": [
    "<div style=\"background-color:rgb(0,40,69);  padding:40px 0;\">\n",
    " <img src=\"https://cic.tec.mx/cic/templates/img/logotec2019.png\"><img>\n",
    " <p style=\"font-size:400%; color:white; text-align:center;font-weight: bold;\">PROYECTO</p>\n",
    "     <p style=\"font-size:400%; color:white; text-align:center;font-weight: bold;\">MACHINE <span style=\"color:rgb(0, 207, 204)\">LEARNING:</span></p>\n",
    "     <p style=\"font-size:400%; color:white; text-align:center;font-weight: bold;\">AVANCE 2</p>\n",
    "    <br>\n",
    "    <br>\n",
    "    <p style=\"font-size:200%; color:white; text-align:center;font-weight: bold;\">TC2006 Lenguajes de programación</p>\n",
    "    <br>\n",
    "    <br>\n",
    "    <p style=\"font-size:200%; color:white; text-align:center;\">Profesora: Astrid Alcaraz</p>\n",
    "    <p style=\"font-size:200%; color:white; text-align:center;\">Periodo Ago - Dic 2020</p>\n",
    "    <br>\n",
    "    <br>\n",
    "    <p style=\"font-size:200%; color:white; text-align: center;\">Jaime Solis &nbsp;&nbsp;&nbsp;&nbsp;&nbsp;&nbsp;&nbsp;&nbsp;&nbsp;&nbsp; A00759756</p>\n",
    "    <p style=\"font-size:200%; color:white; text-align: center;\">Jesús Ruiz &nbsp;&nbsp;&nbsp;&nbsp;&nbsp;&nbsp;&nbsp;&nbsp;&nbsp;&nbsp;  A00758756</p>\n",
    "    \n",
    "  \n",
    "    \n",
    "</div>\n",
    "\n"
   ]
  },
  {
   "cell_type": "markdown",
   "metadata": {},
   "source": [
    "## Contenido\n",
    "\n",
    "* [Introducción](#Introducción)  \n",
    "    * [Tipos de Aprendizaje](Tipos-de-Aprendizaje)\n",
    "        * [Supervisado](#Supervisado)  \n",
    "        * [No Supervisado](#No-Supervisado)  \n",
    "        * [Semi Supervisado](#Semi-Supervisado)  \n",
    "        * [Aprendizaje por Refuerzo](#Aprendizaje-por-Refuerzo) \n",
    "* [Definición del proyecto](#Definición-del-proyecto)  \n",
    "* [Tecnologías empleadas](#Tecnologías-empleadas)  \n",
    "    * [Python](#Python)  \n",
    "    * [Anaconda](#Anaconda)  \n",
    "    * [Jupyter](#Jupyter)  \n",
    "    * [Numpy](#Numpy)  \n",
    "    * [Pandas](#Pandas)  \n",
    "    * [MatplotLib](#MatplotLib)  \n",
    "* [Referencias](#Referencias)  "
   ]
  },
  {
   "cell_type": "markdown",
   "metadata": {},
   "source": [
    "## Introducción\n",
    "\n",
    "El aprendizaje automático *(Machine Learning)* es sin lugar a dudas una de las tecnologías más influyentes y poderosas del mundo actual. Pero lo más importante es saber que, aún estamos lejos de ver todo su potencial.  \n",
    "\n",
    "Esta herramienta es utilizada para convertir la información en conocimiento. Hoy se están generando más datos que nunca y la cantidad de información generada diariamente seguirá creciendo. De acuerdo a IBM[<sup>1</sup>](#Barranco), en 2012 se generaban 2.5 exabytes (2.5 x 10<sup>18</sup> bytes). Entre 2013 y 2020, IDC[<sup>2</sup>](#Patrizio) estima que entre 2013 y 2020, la cantidad de dato que generamos incrementó de 4.4 zettabytes a 44 zettabytes y para 2025, se esperan 175 zettabytes de datos[<sup>2</sup>](#Zb). Pero esta masa de datos es inútil a menos que sea analizada y se encuentren patrones ocultos en su interior. Las técnicas de ML se utilizan para encontrar automáticamente los patrones dentro de datos complejos que, de otro modo, nos costaría descubrir. Los patrones ocultos y el conocimiento sobre un problema se pueden utilizar para predecir eventos futuros y realizar todo tipo de toma de decisiones.  \n",
    "\n",
    "<img align='left' style=\"width: 100%;\" src='https://futurithmic-15d58.kxcdn.com/wp-content/uploads/2019/04/12.4.19_MachineLearning.jpg'>  \n",
    "<br> </br>\n",
    "  \n",
    "La mayoría de nosotros no sabemos que la Ciencia de Datos es utilizada todos los días. Cada vez que buscamos algo en *Google*, escuchamos una canción en *Spotify* o incluso tomamos una foto, el aprendizaje automático se está convirtiendo en parte del motor detrás, aprendiendo y mejorando constantemente con cada interacción. ML también está detrás de los avances que cambian al mundo como la detección del cáncer, la creación de nuevos medicamentos y los vehículos autónomos.  \n",
    "\n",
    "Tradicionalmente, la ingeniería de software combina reglas, creadas por personas, con datos para crear respuestas a un problema. En cambio, Machine Learning utiliza datos y respuestas para descubrir reglas detrás de un problema *(Chollet, 2018)*.  \n",
    "\n",
    "Para aprender las reglas que gobiernan un fenómeno, las máquinas deben pasar por un proceso de aprendizaje, probar diferentes reglas y aprender que también funcionan. Por lo tanto se conoce como aprendizaje automático o Machine Learning. Su objetivo es crear un modelo entrenado con una gran cantidad de datos que nos permita resolver una tarea. El modelo aprende de los datos y es capaz de hacer predicciones.  \n",
    "\n",
    "\n",
    "\n",
    "\n",
    "### Tipos de Aprendizaje\n",
    "\n",
    "Existen múltiples formas de aprendizaje: supervisado, no supervisado y aprendizaje por refuerzo. Cada forma de aprendizaje tiene enfoques y algoritmos diferentes, pero todos siguen el mismo proceso y teoría subyacentes. \n",
    "<img align='left' style=\"width: 100%;\" src='https://brianasimba.github.io/MachineLearningblog/images/ML_branches.png'> \n",
    "\n",
    "\n",
    "\n",
    "#### Supervisado\n",
    "En el método supervisado, los datos de entrenamiento tienen una variable que etiqueta el resultado o clase de cada instancia. Una tarea típica del aprendizaje supervisado es de clasificación. El filtro de *spam* del correo electrónico es un ejemplo de este. El modelo es entrenado con muchos ejemplos de correos junto con la clase (*spam* o *ham*) y este aprende cómo clasificar nuevos correos. Regresión es otra aplicación en la que el objetivo del modelo es predecir valores (valor de acciones, precio de casas, etc).  \n",
    "\n",
    "#### No Supervisado\n",
    "El aprendizaje no supervisado no incluye la etiqueta de clases, el modelo tiene que aprender solo a separar los datos y agruparlos. Un uso común es usar un algoritmo de *clustering* para detectar grupos de clientes similares para campañas de marketing. La detección de anomalías es otra tarea no supervisada, es usada para detectar fraudes con tarjetas de crédito, identificar fallas de manufactura, hacer limpieza de datos, etc.  \n",
    "\n",
    "#### Semi Supervisado\n",
    "También está el aprendizaje semi supervisado que es una mezcla de los dos anteriores porque la mayoría de los datos no están etiquetados. Un ejemplo de esto es el reconocimiento facial de *Google Photos* ya que cuando se etiqueta a una persona en una foto, la aplicación nos puede mostrar todas las fotografías con esa persona.  \n",
    "\n",
    "#### Aprendizaje por Refuerzo\n",
    "El aprendizaje por refuerzo es muy diferente ya que en este caso, el sistema es expuesto a una situación donde puede elegir una acción. De acuerdo a la acción tomada, el sistema es recompensado o penalizado y entonces el modelo se actualiza con cómo toma las decisiones. El proceso se repite hasta que se llega a una solución óptima. Los sistemas inteligentes generalmente usan este tipo de aprendizaje. \n",
    "\n",
    "\n",
    "Otros ejemplos de aplicaciones de *Machine Learning* son:  \n",
    "        \n",
    " - Análisis de sentimiento para reseñas de *Amazon* o *posts* en redes sociales\n",
    " - Resumir documentos automaticamente\n",
    " - Predecir las ventas futuras de una empresa\n",
    " - Creat *chatbots* o asistentes personales\n",
    " - Segmentar clientes\n",
    " - Recomendar productos basados en el historial de consumo  \n",
    "\n",
    "El objetivo de este proyecto es hacer uso de diferentes algoritmos y herramientas de ML para crear modelos predictivos aplicados.\n",
    "\n",
    "---\n",
    "\n",
    "<p id=\"Barranco\"><a href=\"https://developer.ibm.com/es/technologies/data-science/articles/que-es-big-data/\" target=\"_blank\"><sup>1</sup> (Barranco,2010)</a></p>\n",
    "<p id=\"Patrizio\"><a href=\"https://www.networkworld.com/article/3325397/idc- expect-175-zettabytes-of-data-worldwide-by-2025.html\" target=\"_blank\"><sup>2</sup> (Patrizio,2018)</a></p>\n",
    "<p id=\"Zb\"><sup>3</sup> 1 ZB = 10<sup>21</sup> bytes = 1,000,000,000,000,000,000,000 bytes</p>"
   ]
  },
  {
   "cell_type": "markdown",
   "metadata": {},
   "source": [
    "## Definición del proyecto\n",
    "\n",
    "\n",
    "Delimitar a que hecho, acción, fenomeno enfocaran su proyecto sobre inteligencia artificial."
   ]
  },
  {
   "cell_type": "markdown",
   "metadata": {},
   "source": [
    "## Tecnologías empleadas\n",
    "\n",
    "### Python\n",
    "<img align='left' style=\"height: 60px;\" src='https://upload.wikimedia.org/wikipedia/commons/thumb/c/c3/Python-logo-notext.svg/1200px-Python-logo-notext.svg.png'> \n",
    "\n",
    "*Python* es un lenguaje que se ve favorecido por su legibilidad y curva de aprendizaje relativamente sencilla. Se han desarrollado varios módulos para facilitar el desarrollo de aplicaciones ML utilizando *python*. La instalación de los módulos se puede llevar a cabo a través de *pip*. Varios de estos módulos son reconocidos por sus usos en este tipo de implementaciones, tales como *numpy*, *scipy*, o *scikit*.  \n",
    "\n",
    "### Anaconda\n",
    "<img align='right' style=\"height: 60px;\" src='https://upload.wikimedia.org/wikipedia/en/c/cd/Anaconda_Logo.png'>\n",
    "\n",
    "Anaconda es un *toolkit* para *python* y *R* utilizado para modelos e implementaciones de ciencia de datos, distribuido en una versión *open source* y tres versiones de mayor nivel. Anaconda importa algunas de las librerías más utilizadas para la construcción de modelos ML. También facilita el trabajo con interfaces gráficas y visualizaciones, entre otras características.  \n",
    "\n",
    "### Jupyter\n",
    "<img align='left' style=\"height: 100px;\" src='https://upload.wikimedia.org/wikipedia/commons/thumb/3/38/Jupyter_logo.svg/1200px-Jupyter_logo.svg.png'>\n",
    "  \n",
    "*Jupyter* es una aplicación web y de escritorio, lo cual significa que se puede utilizar desde un navegador o puede ser ejecutado desde escritorio para desarrollo. El proyecto es *open source* y es desarrollado públicamente, y se distribuye a través de *JupyterLab*, para desarrollar y respaldar flujos de trabajo para ciencia de datos y ML. *Jupyter Notebook* es una herramienta simple y poderosa que se utiliza para trabajar con problemas de análisis de datos. Esta aplicación permite a los usuarios escribir descripciones de texto, código *Python* e incrustar gráficos y diagramas directamente en una página web interactiva.  \n",
    "\n",
    "### Numpy\n",
    "<img align='right' style=\"height: 100px;\" src='https://gradfutures.princeton.edu/sites/gradprofdev/files/events/numpylogo_-_gabe_perez-giz.png'>\n",
    "  \n",
    "*Numpy* es una librería de *python* que ayuda a implementar funciones relacionadas a modelos estadísticos, ciencias de datos, y varios otros, separados por módulos. Soporta matrices y tablas multidimensionales para realizar cómputo numérico. Una de las implementaciones más famosas de *numpy* en conjunto con otras librerías es la célebre imagen de un agujero negro por el *Event Horizon Telescope*. La instalación de *numpy* se puede llevar a cabo a través de *conda* o *pip*, y generalmente sólo requiere que se importen las librerías necesarias al código. También viene incluida en *Anaconda*.\n",
    "### Pandas\n",
    "<img align='left' style=\"height: 60px;\" src='https://upload.wikimedia.org/wikipedia/commons/thumb/e/ed/Pandas_logo.svg/1200px-Pandas_logo.svg.png'>\n",
    "*Pandas* es otra herramienta útil para el análisis de datos, construida a partir del paquete de *numpy* y también incluida en *Anaconda*. Ofrece estructuras de datos y procesamiento y manipulación de tablas numéricas y series temporales, además de soporte para importar archivos JSON, CSV, SQL o hasta libretas de *Excel*. *Pandas* también puede ser instalada a través de *pip*, *conda*, o el paquete de *Anaconda*.  \n",
    "\n",
    "### MatplotLib\n",
    "<img align='right' style=\"height: 100px;\" src='https://encrypted-tbn0.gstatic.com/images?q=tbn%3AANd9GcRLTUxWssq5rtESeIXIEHefdx45-z0yb7D0xQ&usqp=CAU'>\n",
    "  \n",
    "*MatplotLib* es una librería open source utilizada para crear visualizaciones de datos comprensivas en *Python*. Permite a su usuario generar visualizaciones con solo unas pocas líneas de código. Los gráficos dibujados se pueden incrustar fácilmente en *Jupyter Notebook* por lo que siempre se pueden visualizar datos y resultados obtenidos de modelos. La documentación oficial incluye varios ejemplos orientados a casos diferentes y particulares."
   ]
  },
  {
   "cell_type": "markdown",
   "metadata": {},
   "source": [
    "## Tema a desarrollar\n",
    "\n",
    "<img align='right' style=\"width: 100%;\" src='https://www.clacso.org/wp-content/uploads/2020/07/Mexico-pandemia.jpeg'>\n",
    "<br></br>\n",
    "La pandemia causada por el coronavirus, SARS-CoV-2, se ha convertido en uno de los mayores desafíos de salud en todo el mundo. Hay más de 46 millones de casos confirmados y más de 1 millón de muertes al 1 de noviembre de 2020. Esto hace que la pandemia de COVID-19 sea uno de los problemas de salud pública con un impacto significativo en la historia de la humanidad.\n",
    "\n",
    "COVID-19 suele ser asintomático [2]. Los pacientes asintomáticos con COVID-19 con frecuencia mejoran con el tiempo sin atención médica especializada [3]. Pero una proporción significativa de los casos de COVID-19 desarrollan neumonía e insuficiencia respiratoria aguda grave [4]. Estos casos suelen requerir hospitalización, ingreso en la unidad de cuidados intensivos e intubación [5].\n",
    "\n",
    "La edad avanzada, la presencia de comorbilidades, en particular la hipertensión, la diabetes, la obesidad y el tabaquismo son factores que aumentan el riesgo de enfermedad grave [6, 7]. Las características de COVID-19 pueden variar según los perfiles demográficos y epidemiológicos de cada país. En el caso específico de México, el 27% de la población tiene más de 50 años [8] y existe una alta tasa de enfermedades crónicas [9, 10] que pueden incrementar el riesgo de complicaciones fatales.\n",
    "\n",
    "Evaluar la tasa instantánea de muerte en cualquier momento durante el seguimiento de los factores de riesgo específicos es fundamental para determinar la idoneidad de las estrategias de mitigación y establecer prioridades para controlar la epidemia de COVID-19. Esto es especialmente cierto para los países que están centrando sus esfuerzos en la lucha contra la pandemia; este es el caso de México.\n",
    "\n",
    "Actualmente, México es el 4<sup>to</sup> con más muertes por COVID-19, sólo detrás de India(123k), Brazil(160k) y Estados Unidos(231k). En Méxicon van 91,753 muertes confirmadas. Una suma que puede explicarse por la alta proporción de personas mayores de 50 años y la alta tasa de enfermedades crónicas. \n",
    "\n",
    "El objetivo es aplicar disntintas herramientas de machine learning para **encontrar el mejor modelo que nos ayude a predecir las probabilidades que tiene una persona de sobrevivir si resulta ser positivo al SARS-CoV-2**.\n"
   ]
  },
  {
   "cell_type": "markdown",
   "metadata": {},
   "source": [
    "## Dataset Seleccionado\n",
    "\n",
    "\n",
    "\n",
    "(Delimita el tamaño del dataset a una cantidad de datos acorde para la obtención de conclusiones objetivas sin afectar el performance de su equipo (Tamaño mínimo al menos 50000 líneas iniciales si las columnas rondan alrededor de 10 aprox). Agrega en el documento solo el url al drive para la consulta del dataset seleccionado)"
   ]
  },
  {
   "cell_type": "markdown",
   "metadata": {},
   "source": [
    "## Referencia repositorio de extracción del dataset \n",
    "\n",
    "La base de datos fue obtenida del portal de [Datos Abiertos de México](https://datos.gob.mx). \n",
    "\n",
    "La base de datos de **Covid-19** es actualizada diariamente en este [Link](https://www.gob.mx/salud/documentos/datos-abiertos-152127).\n",
    "\n",
    "La base de datos a utilizar (por el momento) cuenta con datos hasta el 31 de octubre y se encuentra en el [repositorio]() de este proyecto. "
   ]
  },
  {
   "cell_type": "markdown",
   "metadata": {},
   "source": [
    "## Referencias\n",
    "\n",
    "Anaconda Inc. (s.f.). Anaconda Your data science toolkit. Recuperado el 18 de septiembre de 2020, de Anaconda:[URL](https://www.anaconda.com/products/individual) \n",
    "\n",
    "Barranco , R. (2012). ¿Qué es Big Data? Recuperado el 18 de septiembre de 2020, de IBM Developer: [URL](https://developer.ibm.com/es/technologies/data-science/articles/que-es-big-data/)   \n",
    "\n",
    "Bijaya, B. (2019). Introduction To Machine Learning using Python. Recuperado el 18 de septiembre de 2020, de Geeks for Geeks: [URL](https://www.geeksforgeeks.org/introduction-machine-learning-using-python/)\n",
    "\n",
    "Chollet, F. (2018). Deep Learning with Python. Manning Publications Co.  \n",
    "\n",
    "NumPy. (s.f.). NumPy. Recuperado el 18 de septiembre de 2020, de NumPy: [URL](https://numpy.org/)\n",
    "\n",
    "Patrizio , A. (2018). IDC: Expect 175 zettabytes of data worldwide by 2025. Recuperado el 18 de septiembre de 2020, de Network World: [URL](https://www.networkworld.com/article/3325397/idc-expect-175-zettabytes-of-data-worldwide-by-2025.html)  \n",
    "\n",
    "Project Jupyter. (s.f.). Jupyter. Recuperado el 18 de septiembre de 2020, de Jupyter:[URL](https://jupyter.org/index.html)  \n",
    "\n",
    "The Pandas Development Team. (s.f.). IO tools (text, CSV, HDF5, ...). Recuperado el 18 de septiembre de 2020, de Pandas: [URL](https://pandas.pydata.org/pandas-docs/stable/user_guide/io.html#io-tools-text-csv-hdf5) "
   ]
  }
 ],
 "metadata": {
  "kernelspec": {
   "display_name": "Python 3",
   "language": "python",
   "name": "python3"
  },
  "language_info": {
   "codemirror_mode": {
    "name": "ipython",
    "version": 3
   },
   "file_extension": ".py",
   "mimetype": "text/x-python",
   "name": "python",
   "nbconvert_exporter": "python",
   "pygments_lexer": "ipython3",
   "version": "3.7.4"
  },
  "nbTranslate": {
   "displayLangs": [
    "en",
    "es"
   ],
   "hotkey": "alt-t",
   "langInMainMenu": true,
   "sourceLang": "es",
   "targetLang": "en",
   "useGoogleTranslate": true
  },
  "toc": {
   "base_numbering": 1,
   "nav_menu": {},
   "number_sections": true,
   "sideBar": true,
   "skip_h1_title": false,
   "title_cell": "Table of Contents",
   "title_sidebar": "Contents",
   "toc_cell": false,
   "toc_position": {
    "height": "calc(100% - 180px)",
    "left": "10px",
    "top": "150px",
    "width": "451.7646789550781px"
   },
   "toc_section_display": true,
   "toc_window_display": true
  }
 },
 "nbformat": 4,
 "nbformat_minor": 4
}
